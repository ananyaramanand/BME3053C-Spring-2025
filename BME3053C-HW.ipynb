{
  "nbformat": 4,
  "nbformat_minor": 0,
  "metadata": {
    "colab": {
      "provenance": [],
      "authorship_tag": "ABX9TyNtOc67ZAidy8u/LukAL6q8",
      "include_colab_link": true
    },
    "kernelspec": {
      "name": "python3",
      "display_name": "Python 3"
    },
    "language_info": {
      "name": "python"
    }
  },
  "cells": [
    {
      "cell_type": "markdown",
      "metadata": {
        "id": "view-in-github",
        "colab_type": "text"
      },
      "source": [
        "<a href=\"https://colab.research.google.com/github/ananyaramanand/BME3053C-Spring-2025/blob/main/BME3053C-HW.ipynb\" target=\"_parent\"><img src=\"https://colab.research.google.com/assets/colab-badge.svg\" alt=\"Open In Colab\"/></a>"
      ]
    },
    {
      "cell_type": "code",
      "execution_count": null,
      "metadata": {
        "colab": {
          "base_uri": "https://localhost:8080/"
        },
        "id": "LAHMC-JVDjDK",
        "outputId": "2d862baf-6817-4f0d-ee50-7f066fcc7a23"
      },
      "outputs": [
        {
          "output_type": "stream",
          "name": "stdout",
          "text": [
            "[0.0, 0.32075471698113206, 0.5849056603773585, 0.05660377358490566, 0.7924528301886793, 1.0, 0.1320754716981132, 0.6415094339622641]\n"
          ]
        }
      ],
      "source": [
        "bp_readings = [120, 137, 151, 123, 162, 173, 127, 154]\n",
        "\n",
        "def blood_pressure_normalized(bp_values):\n",
        "  normalized_list=[]\n",
        "  for value in bp_values:\n",
        "\n",
        "    new_bp_reading = (value-min(bp_values))/(max(bp_values)-min(bp_values))\n",
        "    normalized_list.append(new_bp_reading)\n",
        "  return normalized_list\n",
        "print(blood_pressure_normalized(bp_readings))"
      ]
    }
  ]
}